{
  "nbformat": 4,
  "nbformat_minor": 0,
  "metadata": {
    "colab": {
      "name": "FlowNet2.ipynb",
      "provenance": [],
      "collapsed_sections": [],
      "include_colab_link": true
    },
    "kernelspec": {
      "name": "python3",
      "display_name": "Python 3"
    },
    "accelerator": "GPU"
  },
  "cells": [
    {
      "cell_type": "markdown",
      "metadata": {
        "id": "view-in-github",
        "colab_type": "text"
      },
      "source": [
        "<a href=\"https://colab.research.google.com/github/SarahKashef/blog/blob/master/FlowNet2.ipynb\" target=\"_parent\"><img src=\"https://colab.research.google.com/assets/colab-badge.svg\" alt=\"Open In Colab\"/></a>"
      ]
    },
    {
      "cell_type": "markdown",
      "metadata": {
        "id": "-OGCfYuDTz7n"
      },
      "source": [
        "# Setup and Install FlowNet2"
      ]
    },
    {
      "cell_type": "markdown",
      "metadata": {
        "id": "vcbiJ9xyUC_j"
      },
      "source": [
        "## Download compatible Torch"
      ]
    },
    {
      "cell_type": "code",
      "metadata": {
        "id": "QMRndXGRFDJo",
        "colab": {
          "base_uri": "https://localhost:8080/"
        },
        "outputId": "2a746bee-c94d-4a9f-8988-e06d173a4238"
      },
      "source": [
        "!pip install torch==1.0.0 torchvision==0.2.2 -f https://download.pytorch.org/whl/cu90/torch_stable.html"
      ],
      "execution_count": 2,
      "outputs": [
        {
          "output_type": "stream",
          "name": "stdout",
          "text": [
            "Looking in links: https://download.pytorch.org/whl/cu90/torch_stable.html\n",
            "Collecting torch==1.0.0\n",
            "  Downloading torch-1.0.0-cp37-cp37m-manylinux1_x86_64.whl (591.8 MB)\n",
            "\u001b[K     |████████████████████████████████| 591.8 MB 653 bytes/s \n",
            "\u001b[?25hCollecting torchvision==0.2.2\n",
            "  Downloading torchvision-0.2.2-py2.py3-none-any.whl (64 kB)\n",
            "\u001b[K     |████████████████████████████████| 64 kB 2.6 MB/s \n",
            "\u001b[?25hRequirement already satisfied: numpy in /usr/local/lib/python3.7/dist-packages (from torchvision==0.2.2) (1.19.5)\n",
            "Collecting tqdm==4.19.9\n",
            "  Downloading tqdm-4.19.9-py2.py3-none-any.whl (52 kB)\n",
            "\u001b[K     |████████████████████████████████| 52 kB 1.3 MB/s \n",
            "\u001b[?25hRequirement already satisfied: six in /usr/local/lib/python3.7/dist-packages (from torchvision==0.2.2) (1.15.0)\n",
            "Requirement already satisfied: pillow>=4.1.1 in /usr/local/lib/python3.7/dist-packages (from torchvision==0.2.2) (7.1.2)\n",
            "Installing collected packages: tqdm, torch, torchvision\n",
            "  Attempting uninstall: tqdm\n",
            "    Found existing installation: tqdm 4.62.3\n",
            "    Uninstalling tqdm-4.62.3:\n",
            "      Successfully uninstalled tqdm-4.62.3\n",
            "  Attempting uninstall: torch\n",
            "    Found existing installation: torch 1.10.0+cu111\n",
            "    Uninstalling torch-1.10.0+cu111:\n",
            "      Successfully uninstalled torch-1.10.0+cu111\n",
            "  Attempting uninstall: torchvision\n",
            "    Found existing installation: torchvision 0.11.1+cu111\n",
            "    Uninstalling torchvision-0.11.1+cu111:\n",
            "      Successfully uninstalled torchvision-0.11.1+cu111\n",
            "\u001b[31mERROR: pip's dependency resolver does not currently take into account all the packages that are installed. This behaviour is the source of the following dependency conflicts.\n",
            "torchtext 0.11.0 requires torch==1.10.0, but you have torch 1.0.0 which is incompatible.\n",
            "torchaudio 0.10.0+cu111 requires torch==1.10.0, but you have torch 1.0.0 which is incompatible.\n",
            "spacy 2.2.4 requires tqdm<5.0.0,>=4.38.0, but you have tqdm 4.19.9 which is incompatible.\n",
            "panel 0.12.1 requires tqdm>=4.48.0, but you have tqdm 4.19.9 which is incompatible.\n",
            "fbprophet 0.7.1 requires tqdm>=4.36.1, but you have tqdm 4.19.9 which is incompatible.\u001b[0m\n",
            "Successfully installed torch-1.0.0 torchvision-0.2.2 tqdm-4.19.9\n"
          ]
        }
      ]
    },
    {
      "cell_type": "markdown",
      "metadata": {
        "id": "buuFnDIpUPLw"
      },
      "source": [
        "## Download and setup FlowNet2 files"
      ]
    },
    {
      "cell_type": "code",
      "metadata": {
        "id": "tWy52WXkEX7M",
        "colab": {
          "base_uri": "https://localhost:8080/",
          "height": 338
        },
        "outputId": "d1329161-86ca-415d-f4a0-5c0c9fa0a64a"
      },
      "source": [
        "import os\n",
        "# get flownet2-pytorch source\n",
        "!git clone https://github.com/Gauravv97/flownet2-pytorch.git\n",
        "!mv /content/flownet2-pytorch /content/flownet2pytorch\n",
        "os.chdir('./flownet2pytorch')\n",
        "# install custom layers\n",
        "!bash install.sh"
      ],
      "execution_count": 3,
      "outputs": [
        {
          "output_type": "stream",
          "name": "stdout",
          "text": [
            "Cloning into 'flownet2-pytorch'...\n",
            "remote: Enumerating objects: 572, done.\u001b[K\n",
            "remote: Total 572 (delta 0), reused 0 (delta 0), pack-reused 572\u001b[K\n",
            "Receiving objects: 100% (572/572), 6.28 MiB | 16.37 MiB/s, done.\n",
            "Resolving deltas: 100% (323/323), done.\n",
            "mv: cannot stat '/content/flownet2-pytorch': No such file or directory\n"
          ]
        },
        {
          "output_type": "error",
          "ename": "FileNotFoundError",
          "evalue": "ignored",
          "traceback": [
            "\u001b[0;31m---------------------------------------------------------------------------\u001b[0m",
            "\u001b[0;31mFileNotFoundError\u001b[0m                         Traceback (most recent call last)",
            "\u001b[0;32m<ipython-input-3-db420419d97d>\u001b[0m in \u001b[0;36m<module>\u001b[0;34m()\u001b[0m\n\u001b[1;32m      3\u001b[0m \u001b[0mget_ipython\u001b[0m\u001b[0;34m(\u001b[0m\u001b[0;34m)\u001b[0m\u001b[0;34m.\u001b[0m\u001b[0msystem\u001b[0m\u001b[0;34m(\u001b[0m\u001b[0;34m'git clone https://github.com/Gauravv97/flownet2-pytorch.git'\u001b[0m\u001b[0;34m)\u001b[0m\u001b[0;34m\u001b[0m\u001b[0;34m\u001b[0m\u001b[0m\n\u001b[1;32m      4\u001b[0m \u001b[0mget_ipython\u001b[0m\u001b[0;34m(\u001b[0m\u001b[0;34m)\u001b[0m\u001b[0;34m.\u001b[0m\u001b[0msystem\u001b[0m\u001b[0;34m(\u001b[0m\u001b[0;34m'mv /content/flownet2-pytorch /content/flownet2pytorch'\u001b[0m\u001b[0;34m)\u001b[0m\u001b[0;34m\u001b[0m\u001b[0;34m\u001b[0m\u001b[0m\n\u001b[0;32m----> 5\u001b[0;31m \u001b[0mos\u001b[0m\u001b[0;34m.\u001b[0m\u001b[0mchdir\u001b[0m\u001b[0;34m(\u001b[0m\u001b[0;34m'./flownet2pytorch'\u001b[0m\u001b[0;34m)\u001b[0m\u001b[0;34m\u001b[0m\u001b[0;34m\u001b[0m\u001b[0m\n\u001b[0m\u001b[1;32m      6\u001b[0m \u001b[0;31m# install custom layers\u001b[0m\u001b[0;34m\u001b[0m\u001b[0;34m\u001b[0m\u001b[0;34m\u001b[0m\u001b[0m\n\u001b[1;32m      7\u001b[0m \u001b[0mget_ipython\u001b[0m\u001b[0;34m(\u001b[0m\u001b[0;34m)\u001b[0m\u001b[0;34m.\u001b[0m\u001b[0msystem\u001b[0m\u001b[0;34m(\u001b[0m\u001b[0;34m'bash install.sh'\u001b[0m\u001b[0;34m)\u001b[0m\u001b[0;34m\u001b[0m\u001b[0;34m\u001b[0m\u001b[0m\n",
            "\u001b[0;31mFileNotFoundError\u001b[0m: [Errno 2] No such file or directory: './flownet2pytorch'"
          ]
        }
      ]
    },
    {
      "cell_type": "markdown",
      "metadata": {
        "id": "kJQD54f9UXEj"
      },
      "source": [
        "### Add packages to IPython system path"
      ]
    },
    {
      "cell_type": "code",
      "metadata": {
        "id": "UVwu6EIMVj2C"
      },
      "source": [
        "import os\n",
        "os.sys.path.append('/root/.local/lib/python3.6/site-packages/resample2d_cuda-0.0.0-py3.6-linux-x86_64.egg')\n",
        "os.sys.path.append('/root/.local/lib/python3.6/site-packages/correlation_cuda-0.0.0-py3.6-linux-x86_64.egg')\n",
        "os.sys.path.append( '/root/.local/lib/python3.6/site-packages/channelnorm_cuda-0.0.0-py3.6-linux-x86_64.egg')"
      ],
      "execution_count": 4,
      "outputs": []
    },
    {
      "cell_type": "markdown",
      "metadata": {
        "id": "DcUkBoSyUsGu"
      },
      "source": [
        "# Download files and Install Packages"
      ]
    },
    {
      "cell_type": "code",
      "metadata": {
        "id": "-IgYQRXrULtU",
        "colab": {
          "base_uri": "https://localhost:8080/"
        },
        "outputId": "2a5ffc8b-40a0-4fa3-ac4c-c2e3ca4b95d5"
      },
      "source": [
        "!pip install pypng\n",
        "!pip install tensorboardx\n",
        "!pip install  setproctitle colorama scipy==1.1.0"
      ],
      "execution_count": 5,
      "outputs": [
        {
          "output_type": "stream",
          "name": "stdout",
          "text": [
            "Collecting pypng\n",
            "  Downloading pypng-0.0.21-py3-none-any.whl (48 kB)\n",
            "\u001b[?25l\r\u001b[K     |██████▉                         | 10 kB 17.3 MB/s eta 0:00:01\r\u001b[K     |█████████████▋                  | 20 kB 22.0 MB/s eta 0:00:01\r\u001b[K     |████████████████████▍           | 30 kB 11.7 MB/s eta 0:00:01\r\u001b[K     |███████████████████████████▎    | 40 kB 9.1 MB/s eta 0:00:01\r\u001b[K     |████████████████████████████████| 48 kB 2.4 MB/s \n",
            "\u001b[?25hInstalling collected packages: pypng\n",
            "Successfully installed pypng-0.0.21\n",
            "Collecting tensorboardx\n",
            "  Downloading tensorboardX-2.4.1-py2.py3-none-any.whl (124 kB)\n",
            "\u001b[K     |████████████████████████████████| 124 kB 5.4 MB/s \n",
            "\u001b[?25hRequirement already satisfied: numpy in /usr/local/lib/python3.7/dist-packages (from tensorboardx) (1.19.5)\n",
            "Requirement already satisfied: protobuf>=3.8.0 in /usr/local/lib/python3.7/dist-packages (from tensorboardx) (3.17.3)\n",
            "Requirement already satisfied: six>=1.9 in /usr/local/lib/python3.7/dist-packages (from protobuf>=3.8.0->tensorboardx) (1.15.0)\n",
            "Installing collected packages: tensorboardx\n",
            "Successfully installed tensorboardx-2.4.1\n",
            "Collecting setproctitle\n",
            "  Downloading setproctitle-1.2.2-cp37-cp37m-manylinux1_x86_64.whl (36 kB)\n",
            "Collecting colorama\n",
            "  Downloading colorama-0.4.4-py2.py3-none-any.whl (16 kB)\n",
            "Collecting scipy==1.1.0\n",
            "  Downloading scipy-1.1.0-cp37-cp37m-manylinux1_x86_64.whl (31.2 MB)\n",
            "\u001b[K     |████████████████████████████████| 31.2 MB 1.4 MB/s \n",
            "\u001b[?25hRequirement already satisfied: numpy>=1.8.2 in /usr/local/lib/python3.7/dist-packages (from scipy==1.1.0) (1.19.5)\n",
            "Installing collected packages: setproctitle, scipy, colorama\n",
            "  Attempting uninstall: scipy\n",
            "    Found existing installation: scipy 1.4.1\n",
            "    Uninstalling scipy-1.4.1:\n",
            "      Successfully uninstalled scipy-1.4.1\n",
            "\u001b[31mERROR: pip's dependency resolver does not currently take into account all the packages that are installed. This behaviour is the source of the following dependency conflicts.\n",
            "pymc3 3.11.4 requires scipy>=1.2.0, but you have scipy 1.1.0 which is incompatible.\n",
            "plotnine 0.6.0 requires scipy>=1.2.0, but you have scipy 1.1.0 which is incompatible.\n",
            "jax 0.2.25 requires scipy>=1.2.1, but you have scipy 1.1.0 which is incompatible.\n",
            "albumentations 0.1.12 requires imgaug<0.2.7,>=0.2.5, but you have imgaug 0.2.9 which is incompatible.\u001b[0m\n",
            "Successfully installed colorama-0.4.4 scipy-1.1.0 setproctitle-1.2.2\n"
          ]
        }
      ]
    },
    {
      "cell_type": "code",
      "metadata": {
        "id": "ePuj4IqqGk_k",
        "colab": {
          "base_uri": "https://localhost:8080/"
        },
        "outputId": "be62586b-726b-4e90-ddd3-0f37d726e6b7"
      },
      "source": [
        "from google_drive_downloader import GoogleDriveDownloader as gdd\n",
        "gdd.download_file_from_google_drive(file_id='1hF8vS6YeHkx3j2pfCeQqqZGwA_PJq_Da',dest_path='./FlowNet2_checkpoint.pth.tar')"
      ],
      "execution_count": 6,
      "outputs": [
        {
          "output_type": "stream",
          "name": "stdout",
          "text": [
            "Downloading 1hF8vS6YeHkx3j2pfCeQqqZGwA_PJq_Da into ./FlowNet2_checkpoint.pth.tar... Done.\n"
          ]
        }
      ]
    },
    {
      "cell_type": "markdown",
      "metadata": {
        "id": "v5j8_TkanL0_"
      },
      "source": [
        "### Install scipy as some tensorflow functionality requires updated scipy"
      ]
    },
    {
      "cell_type": "code",
      "metadata": {
        "id": "tb5ZMFHcl_jw",
        "colab": {
          "base_uri": "https://localhost:8080/"
        },
        "outputId": "be3160c7-e704-4898-c0af-cb5a80eb6371"
      },
      "source": [
        "!pip install scipy==1.4.1"
      ],
      "execution_count": 7,
      "outputs": [
        {
          "output_type": "stream",
          "name": "stdout",
          "text": [
            "Collecting scipy==1.4.1\n",
            "  Downloading scipy-1.4.1-cp37-cp37m-manylinux1_x86_64.whl (26.1 MB)\n",
            "\u001b[K     |████████████████████████████████| 26.1 MB 1.7 MB/s \n",
            "\u001b[?25hRequirement already satisfied: numpy>=1.13.3 in /usr/local/lib/python3.7/dist-packages (from scipy==1.4.1) (1.19.5)\n",
            "Installing collected packages: scipy\n",
            "  Attempting uninstall: scipy\n",
            "    Found existing installation: scipy 1.1.0\n",
            "    Uninstalling scipy-1.1.0:\n",
            "      Successfully uninstalled scipy-1.1.0\n",
            "\u001b[31mERROR: pip's dependency resolver does not currently take into account all the packages that are installed. This behaviour is the source of the following dependency conflicts.\n",
            "albumentations 0.1.12 requires imgaug<0.2.7,>=0.2.5, but you have imgaug 0.2.9 which is incompatible.\u001b[0m\n",
            "Successfully installed scipy-1.4.1\n"
          ]
        }
      ]
    },
    {
      "cell_type": "code",
      "metadata": {
        "id": "no-tPugfmuSC"
      },
      "source": [
        "os.chdir('/content/flownet2pytorch')"
      ],
      "execution_count": 8,
      "outputs": []
    },
    {
      "cell_type": "markdown",
      "metadata": {
        "id": "ihUwCSdnXlge"
      },
      "source": [
        "### Define show_flow() for visualization.\n",
        " Original Source https://github.com/sampepose/flownet2-tf/blob/master/src/flowlib.py"
      ]
    },
    {
      "cell_type": "code",
      "metadata": {
        "id": "YGwMS0x0XaJC"
      },
      "source": [
        "# Source:https://github.com/sampepose/flownet2-tf/blob/master/src/flowlib.py\n",
        "import matplotlib.pyplot as plt\n",
        "import numpy as np\n",
        "\n",
        "UNKNOWN_FLOW_THRESH = 1e7\n",
        "def show_flow(filename):\n",
        "    \"\"\"\n",
        "    visualize optical flow map using matplotlib\n",
        "    :param filename: optical flow file\n",
        "    :return: None\n",
        "    \"\"\"\n",
        "    flow = read_flow(filename)\n",
        "    img = flow_to_image(flow)\n",
        "    plt.imshow(img)\n",
        "    plt.show()\n",
        "\n",
        "def read_flow(filename):\n",
        "    \"\"\"\n",
        "    read optical flow from Middlebury .flo file\n",
        "    :param filename: name of the flow file\n",
        "    :return: optical flow data in matrix\n",
        "    \"\"\"\n",
        "    f = open(filename, 'rb')\n",
        "    magic = np.fromfile(f, np.float32, count=1)\n",
        "    data2d = None\n",
        "\n",
        "    if 202021.25 != magic:\n",
        "        print ('Magic number incorrect. Invalid .flo file')\n",
        "    else:\n",
        "        w = int(np.fromfile(f, np.int32, count=1)[0])\n",
        "        h = int(np.fromfile(f, np.int32, count=1)[0])\n",
        "        #print(\"Reading %d x %d flo file\" % (h, w))\n",
        "        data2d = np.fromfile(f, np.float32, count=2 * w * h)\n",
        "        # reshape data into 3D array (columns, rows, channels)\n",
        "        data2d = np.resize(data2d, (h, w, 2))\n",
        "    f.close()\n",
        "    return data2d\n",
        "\n",
        "def flow_to_image(flow):\n",
        "    \"\"\"\n",
        "    Convert flow into middlebury color code image\n",
        "    :param flow: optical flow map\n",
        "    :return: optical flow image in middlebury color\n",
        "    \"\"\"\n",
        "    u = flow[:, :, 0]\n",
        "    v = flow[:, :, 1]\n",
        "\n",
        "    maxu = -999.\n",
        "    maxv = -999.\n",
        "    minu = 999.\n",
        "    minv = 999.\n",
        "\n",
        "    idxUnknow = (abs(u) > UNKNOWN_FLOW_THRESH) | (abs(v) > UNKNOWN_FLOW_THRESH)\n",
        "    u[idxUnknow] = 0\n",
        "    v[idxUnknow] = 0\n",
        "\n",
        "    maxu = max(maxu, np.max(u))\n",
        "    minu = min(minu, np.min(u))\n",
        "\n",
        "    maxv = max(maxv, np.max(v))\n",
        "    minv = min(minv, np.min(v))\n",
        "\n",
        "    rad = np.sqrt(u ** 2 + v ** 2)\n",
        "    maxrad = max(-1, np.max(rad))\n",
        "\n",
        "    #print( \"max flow: %.4f\\nflow range:\\nu = %.3f .. %.3f\\nv = %.3f .. %.3f\" % (maxrad, minu,maxu, minv, maxv))\n",
        "\n",
        "    u = u/(maxrad + np.finfo(float).eps)\n",
        "    v = v/(maxrad + np.finfo(float).eps)\n",
        "\n",
        "    img = compute_color(u, v)\n",
        "\n",
        "    idx = np.repeat(idxUnknow[:, :, np.newaxis], 3, axis=2)\n",
        "    img[idx] = 0\n",
        "\n",
        "    return np.uint8(img)\n",
        "\n",
        "\n",
        "def compute_color(u, v):\n",
        "    \"\"\"\n",
        "    compute optical flow color map\n",
        "    :param u: optical flow horizontal map\n",
        "    :param v: optical flow vertical map\n",
        "    :return: optical flow in color code\n",
        "    \"\"\"\n",
        "    [h, w] = u.shape\n",
        "    img = np.zeros([h, w, 3])\n",
        "    nanIdx = np.isnan(u) | np.isnan(v)\n",
        "    u[nanIdx] = 0\n",
        "    v[nanIdx] = 0\n",
        "\n",
        "    colorwheel = make_color_wheel()\n",
        "    ncols = np.size(colorwheel, 0)\n",
        "\n",
        "    rad = np.sqrt(u**2+v**2)\n",
        "\n",
        "    a = np.arctan2(-v, -u) / np.pi\n",
        "\n",
        "    fk = (a+1) / 2 * (ncols - 1) + 1\n",
        "\n",
        "    k0 = np.floor(fk).astype(int)\n",
        "\n",
        "    k1 = k0 + 1\n",
        "    k1[k1 == ncols+1] = 1\n",
        "    f = fk - k0\n",
        "\n",
        "    for i in range(0, np.size(colorwheel,1)):\n",
        "        tmp = colorwheel[:, i]\n",
        "        col0 = tmp[k0-1] / 255\n",
        "        col1 = tmp[k1-1] / 255\n",
        "        col = (1-f) * col0 + f * col1\n",
        "\n",
        "        idx = rad <= 1\n",
        "        col[idx] = 1-rad[idx]*(1-col[idx])\n",
        "        notidx = np.logical_not(idx)\n",
        "\n",
        "        col[notidx] *= 0.75\n",
        "        img[:, :, i] = np.uint8(np.floor(255 * col*(1-nanIdx)))\n",
        "\n",
        "    return img\n",
        "\n",
        "\n",
        "def make_color_wheel():\n",
        "    \"\"\"\n",
        "    Generate color wheel according Middlebury color code\n",
        "    :return: Color wheel\n",
        "    \"\"\"\n",
        "    RY = 15\n",
        "    YG = 6\n",
        "    GC = 4\n",
        "    CB = 11\n",
        "    BM = 13\n",
        "    MR = 6\n",
        "\n",
        "    ncols = RY + YG + GC + CB + BM + MR\n",
        "\n",
        "    colorwheel = np.zeros([ncols, 3])\n",
        "\n",
        "    col = 0\n",
        "\n",
        "    # RY\n",
        "    colorwheel[0:RY, 0] = 255\n",
        "    colorwheel[0:RY, 1] = np.transpose(np.floor(255*np.arange(0, RY) / RY))\n",
        "    col += RY\n",
        "\n",
        "    # YG\n",
        "    colorwheel[col:col+YG, 0] = 255 - np.transpose(np.floor(255*np.arange(0, YG) / YG))\n",
        "    colorwheel[col:col+YG, 1] = 255\n",
        "    col += YG\n",
        "\n",
        "    # GC\n",
        "    colorwheel[col:col+GC, 1] = 255\n",
        "    colorwheel[col:col+GC, 2] = np.transpose(np.floor(255*np.arange(0, GC) / GC))\n",
        "    col += GC\n",
        "\n",
        "    # CB\n",
        "    colorwheel[col:col+CB, 1] = 255 - np.transpose(np.floor(255*np.arange(0, CB) / CB))\n",
        "    colorwheel[col:col+CB, 2] = 255\n",
        "    col += CB\n",
        "\n",
        "    # BM\n",
        "    colorwheel[col:col+BM, 2] = 255\n",
        "    colorwheel[col:col+BM, 0] = np.transpose(np.floor(255*np.arange(0, BM) / BM))\n",
        "    col += + BM\n",
        "\n",
        "    # MR\n",
        "    colorwheel[col:col+MR, 2] = 255 - np.transpose(np.floor(255 * np.arange(0, MR) / MR))\n",
        "    colorwheel[col:col+MR, 0] = 255\n",
        "\n",
        "    return colorwheel"
      ],
      "execution_count": 9,
      "outputs": []
    },
    {
      "cell_type": "markdown",
      "source": [
        "# Download Dataset from google drive"
      ],
      "metadata": {
        "id": "Ntb5fyTI9LOa"
      }
    },
    {
      "cell_type": "code",
      "source": [
        "from google_drive_downloader import GoogleDriveDownloader as gdd\n",
        "gdd.download_file_from_google_drive(file_id='1k5c4nJzmKkS55vg1K61o8Z_rr0FiMJow',dest_path='./480p')"
      ],
      "metadata": {
        "id": "fAL9qrrs9Io5"
      },
      "execution_count": null,
      "outputs": []
    },
    {
      "cell_type": "markdown",
      "source": [
        "## Convert to .png"
      ],
      "metadata": {
        "id": "2UxEUA6MlNEJ"
      }
    },
    {
      "cell_type": "code",
      "source": [
        "# from PIL import Image\n",
        "# from os import listdir\n",
        "# from os.path import splitext\n",
        "\n",
        "# target_directory = \"/content/sample_data/ftgyhuji\"\n",
        "# target = '.png'\n",
        "\n",
        "# for file in listdir(target_directory):\n",
        "#     filename, extension = splitext(file)\n",
        "#     try:\n",
        "#         if extension not in [target]:\n",
        "#             im = Image.open(filename + extension)\n",
        "#             im.save(filename + target)\n",
        "#     except OSError:\n",
        "#         print('Cannot convert %s' % file)"
      ],
      "metadata": {
        "colab": {
          "base_uri": "https://localhost:8080/"
        },
        "id": "h9KHQR7pi2SK",
        "outputId": "de939001-7d93-43de-c401-30835df0d62b"
      },
      "execution_count": null,
      "outputs": [
        {
          "output_type": "stream",
          "name": "stdout",
          "text": [
            "Cannot convert 00002.jpg\n",
            "Cannot convert 00009.jpg\n",
            "Cannot convert 00013.jpg\n",
            "Cannot convert 00020.jpg\n",
            "Cannot convert 00004.jpg\n",
            "Cannot convert 00012.jpg\n",
            "Cannot convert 00001.jpg\n",
            "Cannot convert 00000.jpg\n",
            "Cannot convert 00022.jpg\n",
            "Cannot convert 00008.jpg\n",
            "Cannot convert 00014.jpg\n",
            "Cannot convert 00007.jpg\n",
            "Cannot convert 00015.jpg\n",
            "Cannot convert 00019.jpg\n",
            "Cannot convert 00003.jpg\n",
            "Cannot convert 00025.jpg\n",
            "Cannot convert 00024.jpg\n",
            "Cannot convert 00006.jpg\n",
            "Cannot convert 00010.jpg\n",
            "Cannot convert 00016.jpg\n",
            "Cannot convert 00027.jpg\n",
            "Cannot convert 00005.jpg\n",
            "Cannot convert 00017.jpg\n",
            "Cannot convert 00023.jpg\n",
            "Cannot convert 00026.jpg\n",
            "Cannot convert 00021.jpg\n",
            "Cannot convert 00018.jpg\n",
            "Cannot convert 00011.jpg\n",
            "Cannot convert 00028.jpg\n",
            "Cannot convert 00029.jpg\n"
          ]
        }
      ]
    },
    {
      "cell_type": "markdown",
      "source": [
        "# Moving Frames Directory"
      ],
      "metadata": {
        "id": "3Q49sx-78nAz"
      }
    },
    {
      "cell_type": "code",
      "source": [
        "import os\n",
        "from PIL import Image\n",
        "\n",
        "directory = \"/content/sample_data\"\n",
        "\n",
        "for root, subdirectories, files in os.walk(directory):\n",
        "    for subdirectory in subdirectories:\n",
        "        print(os.path.join(root, subdirectory))\n",
        "    for file in files:\n",
        "        print(os.path.join(root, file))\n",
        "        "
      ],
      "metadata": {
        "colab": {
          "base_uri": "https://localhost:8080/"
        },
        "id": "Sgi-ILGYhjqx",
        "outputId": "9bd02cf3-4213-4f8b-a4eb-7774d0af34e2"
      },
      "execution_count": null,
      "outputs": [
        {
          "output_type": "stream",
          "name": "stdout",
          "text": [
            "/content/sample_data/ftgyhuji\n",
            "/content/sample_data/.ipynb_checkpoints\n",
            "/content/sample_data/anscombe.json\n",
            "/content/sample_data/README.md\n",
            "/content/sample_data/california_housing_train.csv\n",
            "/content/sample_data/california_housing_test.csv\n",
            "/content/sample_data/mnist_test.csv\n",
            "/content/sample_data/mnist_train_small.csv\n",
            "/content/sample_data/ftgyhuji/00002.jpg\n",
            "/content/sample_data/ftgyhuji/00009.jpg\n",
            "/content/sample_data/ftgyhuji/00013.jpg\n",
            "/content/sample_data/ftgyhuji/00020.jpg\n",
            "/content/sample_data/ftgyhuji/00004.jpg\n",
            "/content/sample_data/ftgyhuji/00012.jpg\n",
            "/content/sample_data/ftgyhuji/00001.jpg\n",
            "/content/sample_data/ftgyhuji/00000.jpg\n",
            "/content/sample_data/ftgyhuji/00022.jpg\n",
            "/content/sample_data/ftgyhuji/00008.jpg\n",
            "/content/sample_data/ftgyhuji/00014.jpg\n",
            "/content/sample_data/ftgyhuji/00007.jpg\n",
            "/content/sample_data/ftgyhuji/00015.jpg\n",
            "/content/sample_data/ftgyhuji/00019.jpg\n",
            "/content/sample_data/ftgyhuji/00003.jpg\n",
            "/content/sample_data/ftgyhuji/00025.jpg\n",
            "/content/sample_data/ftgyhuji/00024.jpg\n",
            "/content/sample_data/ftgyhuji/00006.jpg\n",
            "/content/sample_data/ftgyhuji/00010.jpg\n",
            "/content/sample_data/ftgyhuji/00016.jpg\n",
            "/content/sample_data/ftgyhuji/00027.jpg\n",
            "/content/sample_data/ftgyhuji/00005.jpg\n",
            "/content/sample_data/ftgyhuji/00017.jpg\n",
            "/content/sample_data/ftgyhuji/00023.jpg\n",
            "/content/sample_data/ftgyhuji/00026.jpg\n",
            "/content/sample_data/ftgyhuji/00021.jpg\n",
            "/content/sample_data/ftgyhuji/00018.jpg\n",
            "/content/sample_data/ftgyhuji/00011.jpg\n",
            "/content/sample_data/ftgyhuji/00028.jpg\n",
            "/content/sample_data/ftgyhuji/00029.jpg\n"
          ]
        }
      ]
    },
    {
      "cell_type": "markdown",
      "metadata": {
        "id": "P9C7PFQ8U9b6"
      },
      "source": [
        "# Run the inference"
      ]
    },
    {
      "cell_type": "markdown",
      "metadata": {
        "id": "uMxjXFiSXCdT"
      },
      "source": [
        "### Generate .flo files using FlowNet2"
      ]
    },
    {
      "cell_type": "code",
      "metadata": {
        "id": "pOJoEKsHS1n1",
        "colab": {
          "base_uri": "https://localhost:8080/"
        },
        "outputId": "ab0650e2-4d42-4f61-dfe7-26978326a6e1"
      },
      "source": [
        "!python main.py --inference --model FlowNet2 --save_flow --save ./output --inference_dataset ImagesFromFolder --inference_dataset_root ./frames/ --resume ./FlowNet2_checkpoint.pth.tar"
      ],
      "execution_count": 7,
      "outputs": [
        {
          "output_type": "stream",
          "name": "stdout",
          "text": [
            "Traceback (most recent call last):\n",
            "  File \"/content/flownet2pytorch/models.py\", line 9, in <module>\n",
            "    from networks.resample2d_package.resample2d import Resample2d\n",
            "  File \"/content/flownet2pytorch/networks/resample2d_package/resample2d.py\", line 3, in <module>\n",
            "    import resample2d_cuda\n",
            "ModuleNotFoundError: No module named 'resample2d_cuda'\n",
            "\n",
            "During handling of the above exception, another exception occurred:\n",
            "\n",
            "Traceback (most recent call last):\n",
            "  File \"main.py\", line 16, in <module>\n",
            "    import models, losses, datasets\n",
            "  File \"/content/flownet2pytorch/models.py\", line 19, in <module>\n",
            "    from .networks.resample2d_package.resample2d import Resample2d\n",
            "ImportError: attempted relative import with no known parent package\n"
          ]
        }
      ]
    },
    {
      "cell_type": "markdown",
      "metadata": {
        "id": "vBSvCvj5XPMX"
      },
      "source": [
        "# Visualizing flo files"
      ]
    },
    {
      "cell_type": "markdown",
      "metadata": {
        "id": "itvl1OTiYMSd"
      },
      "source": [
        "### Save Flo files as images"
      ]
    },
    {
      "cell_type": "code",
      "metadata": {
        "id": "YopuaMoJPYnT"
      },
      "source": [
        "import os\n",
        "import PIL.Image\n",
        "def mkdir_ifnotexists(dir):\n",
        "    if os.path.exists(dir):\n",
        "        return\n",
        "    os.mkdir(dir)\n",
        "\n",
        "\n",
        "flo_pth='/content/flownet2pytorch/output/inference/run.epoch-0-flow-field/'\n",
        "flos=[flo_pth + f for f in os.listdir(flo_pth)]\n",
        "mkdir_ifnotexists('./FlowFrames')\n",
        "for i in range(len(flos)):\n",
        " PIL.Image.fromarray(flow_to_image(read_flow(flos[i]))).save('./FlowFrames/'+os.path.basename(flos[i])+'.png')"
      ],
      "execution_count": 11,
      "outputs": []
    },
    {
      "cell_type": "code",
      "source": [
        "! zip FlowFrames.zip './FlowFrames/'*.png"
      ],
      "metadata": {
        "colab": {
          "base_uri": "https://localhost:8080/"
        },
        "id": "vpsZ3Qv__5si",
        "outputId": "ba8e2657-27fa-4272-981d-afdb062227e5"
      },
      "execution_count": 12,
      "outputs": [
        {
          "output_type": "stream",
          "name": "stdout",
          "text": [
            "  adding: FlowFrames/000000.flo.png (deflated 0%)\n",
            "  adding: FlowFrames/000001.flo.png (deflated 0%)\n",
            "  adding: FlowFrames/000002.flo.png (deflated 0%)\n",
            "  adding: FlowFrames/000003.flo.png (deflated 0%)\n",
            "  adding: FlowFrames/000004.flo.png (deflated 0%)\n",
            "  adding: FlowFrames/000005.flo.png (deflated 0%)\n",
            "  adding: FlowFrames/000006.flo.png (deflated 0%)\n",
            "  adding: FlowFrames/000007.flo.png (deflated 0%)\n",
            "  adding: FlowFrames/000008.flo.png (deflated 0%)\n",
            "  adding: FlowFrames/000009.flo.png (deflated 0%)\n",
            "  adding: FlowFrames/000010.flo.png (deflated 0%)\n",
            "  adding: FlowFrames/000011.flo.png (deflated 0%)\n",
            "  adding: FlowFrames/000012.flo.png (deflated 0%)\n",
            "  adding: FlowFrames/000013.flo.png (deflated 0%)\n",
            "  adding: FlowFrames/000014.flo.png (deflated 0%)\n",
            "  adding: FlowFrames/000015.flo.png (deflated 0%)\n",
            "  adding: FlowFrames/000016.flo.png (deflated 0%)\n",
            "  adding: FlowFrames/000017.flo.png (deflated 0%)\n",
            "  adding: FlowFrames/000018.flo.png (deflated 0%)\n",
            "  adding: FlowFrames/000019.flo.png (deflated 0%)\n",
            "  adding: FlowFrames/000020.flo.png (deflated 0%)\n",
            "  adding: FlowFrames/000021.flo.png (deflated 0%)\n",
            "  adding: FlowFrames/000022.flo.png (deflated 0%)\n",
            "  adding: FlowFrames/000023.flo.png (deflated 0%)\n",
            "  adding: FlowFrames/000024.flo.png (deflated 0%)\n",
            "  adding: FlowFrames/000025.flo.png (deflated 0%)\n",
            "  adding: FlowFrames/000026.flo.png (deflated 0%)\n",
            "  adding: FlowFrames/000027.flo.png (deflated 0%)\n",
            "  adding: FlowFrames/000028.flo.png (deflated 0%)\n"
          ]
        }
      ]
    }
  ]
}